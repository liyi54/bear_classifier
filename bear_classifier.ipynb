{
 "cells": [
  {
   "cell_type": "markdown",
   "metadata": {
    "id": "hLpBpMeruQr_"
   },
   "source": [
    "## We Test the Model here"
   ]
  },
  {
   "cell_type": "code",
   "execution_count": 1,
   "metadata": {
    "colab": {
     "base_uri": "https://localhost:8080/"
    },
    "id": "FZ0MEawvuULq",
    "outputId": "0aaa2f70-9027-4605-b415-1b5c96c9fb13"
   },
   "outputs": [
    {
     "name": "stdout",
     "output_type": "stream",
     "text": [
      "Requirement already up-to-date: fastai in /opt/conda/envs/fastai/lib/python3.8/site-packages (2.1.9)\n",
      "Requirement already satisfied, skipping upgrade: scipy in /opt/conda/envs/fastai/lib/python3.8/site-packages (from fastai) (1.5.3)\n",
      "Requirement already satisfied, skipping upgrade: pandas in /opt/conda/envs/fastai/lib/python3.8/site-packages (from fastai) (1.1.4)\n",
      "Requirement already satisfied, skipping upgrade: fastcore>=1.3.8 in /opt/conda/envs/fastai/lib/python3.8/site-packages (from fastai) (1.3.12)\n",
      "Requirement already satisfied, skipping upgrade: pip in /opt/conda/envs/fastai/lib/python3.8/site-packages (from fastai) (20.2.4)\n",
      "Requirement already satisfied, skipping upgrade: requests in /opt/conda/envs/fastai/lib/python3.8/site-packages (from fastai) (2.25.0)\n",
      "Requirement already satisfied, skipping upgrade: pyyaml in /opt/conda/envs/fastai/lib/python3.8/site-packages (from fastai) (5.3.1)\n",
      "Requirement already satisfied, skipping upgrade: matplotlib in /opt/conda/envs/fastai/lib/python3.8/site-packages (from fastai) (3.3.3)\n",
      "Requirement already satisfied, skipping upgrade: fastprogress>=0.2.4 in /opt/conda/envs/fastai/lib/python3.8/site-packages (from fastai) (1.0.0)\n",
      "Requirement already satisfied, skipping upgrade: scikit-learn in /opt/conda/envs/fastai/lib/python3.8/site-packages (from fastai) (0.23.2)\n",
      "Requirement already satisfied, skipping upgrade: packaging in /opt/conda/envs/fastai/lib/python3.8/site-packages (from fastai) (20.4)\n",
      "Requirement already satisfied, skipping upgrade: torchvision>=0.8 in /opt/conda/envs/fastai/lib/python3.8/site-packages (from fastai) (0.8.1)\n",
      "Requirement already satisfied, skipping upgrade: spacy in /opt/conda/envs/fastai/lib/python3.8/site-packages (from fastai) (2.3.2)\n",
      "Requirement already satisfied, skipping upgrade: torch>=1.7.0 in /opt/conda/envs/fastai/lib/python3.8/site-packages (from fastai) (1.7.0)\n",
      "Requirement already satisfied, skipping upgrade: pillow>6.0.0 in /opt/conda/envs/fastai/lib/python3.8/site-packages (from fastai) (8.0.1)\n",
      "Requirement already satisfied, skipping upgrade: numpy>=1.14.5 in /opt/conda/envs/fastai/lib/python3.8/site-packages (from scipy->fastai) (1.19.4)\n",
      "Requirement already satisfied, skipping upgrade: python-dateutil>=2.7.3 in /opt/conda/envs/fastai/lib/python3.8/site-packages (from pandas->fastai) (2.8.1)\n",
      "Requirement already satisfied, skipping upgrade: pytz>=2017.2 in /opt/conda/envs/fastai/lib/python3.8/site-packages (from pandas->fastai) (2020.4)\n",
      "Requirement already satisfied, skipping upgrade: idna<3,>=2.5 in /opt/conda/envs/fastai/lib/python3.8/site-packages (from requests->fastai) (2.10)\n",
      "Requirement already satisfied, skipping upgrade: chardet<4,>=3.0.2 in /opt/conda/envs/fastai/lib/python3.8/site-packages (from requests->fastai) (3.0.4)\n",
      "Requirement already satisfied, skipping upgrade: urllib3<1.27,>=1.21.1 in /opt/conda/envs/fastai/lib/python3.8/site-packages (from requests->fastai) (1.25.11)\n",
      "Requirement already satisfied, skipping upgrade: certifi>=2017.4.17 in /opt/conda/envs/fastai/lib/python3.8/site-packages (from requests->fastai) (2020.11.8)\n",
      "Requirement already satisfied, skipping upgrade: kiwisolver>=1.0.1 in /opt/conda/envs/fastai/lib/python3.8/site-packages (from matplotlib->fastai) (1.3.1)\n",
      "Requirement already satisfied, skipping upgrade: cycler>=0.10 in /opt/conda/envs/fastai/lib/python3.8/site-packages (from matplotlib->fastai) (0.10.0)\n",
      "Requirement already satisfied, skipping upgrade: pyparsing!=2.0.4,!=2.1.2,!=2.1.6,>=2.0.3 in /opt/conda/envs/fastai/lib/python3.8/site-packages (from matplotlib->fastai) (2.4.7)\n",
      "Requirement already satisfied, skipping upgrade: threadpoolctl>=2.0.0 in /opt/conda/envs/fastai/lib/python3.8/site-packages (from scikit-learn->fastai) (2.1.0)\n",
      "Requirement already satisfied, skipping upgrade: joblib>=0.11 in /opt/conda/envs/fastai/lib/python3.8/site-packages (from scikit-learn->fastai) (0.17.0)\n",
      "Requirement already satisfied, skipping upgrade: six in /opt/conda/envs/fastai/lib/python3.8/site-packages (from packaging->fastai) (1.15.0)\n",
      "Requirement already satisfied, skipping upgrade: setuptools in /opt/conda/envs/fastai/lib/python3.8/site-packages (from spacy->fastai) (49.6.0.post20201009)\n",
      "Requirement already satisfied, skipping upgrade: srsly<1.1.0,>=1.0.2 in /opt/conda/envs/fastai/lib/python3.8/site-packages (from spacy->fastai) (1.0.4)\n",
      "Requirement already satisfied, skipping upgrade: preshed<3.1.0,>=3.0.2 in /opt/conda/envs/fastai/lib/python3.8/site-packages (from spacy->fastai) (3.0.4)\n",
      "Requirement already satisfied, skipping upgrade: tqdm<5.0.0,>=4.38.0 in /opt/conda/envs/fastai/lib/python3.8/site-packages (from spacy->fastai) (4.52.0)\n",
      "Requirement already satisfied, skipping upgrade: wasabi<1.1.0,>=0.4.0 in /opt/conda/envs/fastai/lib/python3.8/site-packages (from spacy->fastai) (0.8.0)\n",
      "Requirement already satisfied, skipping upgrade: plac<1.2.0,>=0.9.6 in /opt/conda/envs/fastai/lib/python3.8/site-packages (from spacy->fastai) (0.9.6)\n",
      "Requirement already satisfied, skipping upgrade: catalogue<1.1.0,>=0.0.7 in /opt/conda/envs/fastai/lib/python3.8/site-packages (from spacy->fastai) (1.0.0)\n",
      "Requirement already satisfied, skipping upgrade: blis<0.5.0,>=0.4.0 in /opt/conda/envs/fastai/lib/python3.8/site-packages (from spacy->fastai) (0.4.1)\n",
      "Requirement already satisfied, skipping upgrade: cymem<2.1.0,>=2.0.2 in /opt/conda/envs/fastai/lib/python3.8/site-packages (from spacy->fastai) (2.0.4)\n",
      "Requirement already satisfied, skipping upgrade: murmurhash<1.1.0,>=0.28.0 in /opt/conda/envs/fastai/lib/python3.8/site-packages (from spacy->fastai) (1.0.4)\n",
      "Requirement already satisfied, skipping upgrade: thinc==7.4.1 in /opt/conda/envs/fastai/lib/python3.8/site-packages (from spacy->fastai) (7.4.1)\n",
      "Requirement already satisfied, skipping upgrade: future in /opt/conda/envs/fastai/lib/python3.8/site-packages (from torch>=1.7.0->fastai) (0.18.2)\n",
      "Requirement already satisfied, skipping upgrade: typing_extensions in /opt/conda/envs/fastai/lib/python3.8/site-packages (from torch>=1.7.0->fastai) (3.7.4.3)\n",
      "Requirement already satisfied, skipping upgrade: dataclasses in /opt/conda/envs/fastai/lib/python3.8/site-packages (from torch>=1.7.0->fastai) (0.6)\n",
      "Collecting voila\n",
      "  Downloading voila-0.2.4-py3-none-any.whl (1.9 MB)\n",
      "\u001b[K     |████████████████████████████████| 1.9 MB 25.2 MB/s eta 0:00:01\n",
      "\u001b[?25hRequirement already satisfied: jupyter-client<7,>=6.1.3 in /opt/conda/envs/fastai/lib/python3.8/site-packages (from voila) (6.1.7)\n",
      "Collecting nbconvert<7,>=6.0.0\n",
      "  Downloading nbconvert-6.0.7-py3-none-any.whl (552 kB)\n",
      "\u001b[K     |████████████████████████████████| 552 kB 54.9 MB/s eta 0:00:01\n",
      "\u001b[?25hCollecting jupyter-server<2.0.0,>=0.3.0\n",
      "  Downloading jupyter_server-1.1.2-py3-none-any.whl (230 kB)\n",
      "\u001b[K     |████████████████████████████████| 230 kB 55.1 MB/s eta 0:00:01\n",
      "\u001b[?25hRequirement already satisfied: nbclient<0.6,>=0.4.0 in /opt/conda/envs/fastai/lib/python3.8/site-packages (from voila) (0.5.1)\n",
      "Requirement already satisfied: jupyter-core>=4.6.0 in /opt/conda/envs/fastai/lib/python3.8/site-packages (from jupyter-client<7,>=6.1.3->voila) (4.7.0)\n",
      "Requirement already satisfied: python-dateutil>=2.1 in /opt/conda/envs/fastai/lib/python3.8/site-packages (from jupyter-client<7,>=6.1.3->voila) (2.8.1)\n",
      "Requirement already satisfied: pyzmq>=13 in /opt/conda/envs/fastai/lib/python3.8/site-packages (from jupyter-client<7,>=6.1.3->voila) (20.0.0)\n",
      "Requirement already satisfied: traitlets in /opt/conda/envs/fastai/lib/python3.8/site-packages (from jupyter-client<7,>=6.1.3->voila) (5.0.5)\n",
      "Requirement already satisfied: tornado>=4.1 in /opt/conda/envs/fastai/lib/python3.8/site-packages (from jupyter-client<7,>=6.1.3->voila) (6.1)\n",
      "Requirement already satisfied: entrypoints>=0.2.2 in /opt/conda/envs/fastai/lib/python3.8/site-packages (from nbconvert<7,>=6.0.0->voila) (0.3)\n",
      "Requirement already satisfied: pandocfilters>=1.4.1 in /opt/conda/envs/fastai/lib/python3.8/site-packages (from nbconvert<7,>=6.0.0->voila) (1.4.2)\n",
      "Requirement already satisfied: defusedxml in /opt/conda/envs/fastai/lib/python3.8/site-packages (from nbconvert<7,>=6.0.0->voila) (0.6.0)\n",
      "Requirement already satisfied: testpath in /opt/conda/envs/fastai/lib/python3.8/site-packages (from nbconvert<7,>=6.0.0->voila) (0.4.4)\n",
      "Requirement already satisfied: bleach in /opt/conda/envs/fastai/lib/python3.8/site-packages (from nbconvert<7,>=6.0.0->voila) (3.2.1)\n",
      "Requirement already satisfied: mistune<2,>=0.8.1 in /opt/conda/envs/fastai/lib/python3.8/site-packages (from nbconvert<7,>=6.0.0->voila) (0.8.4)\n",
      "Requirement already satisfied: jupyterlab-pygments in /opt/conda/envs/fastai/lib/python3.8/site-packages (from nbconvert<7,>=6.0.0->voila) (0.1.2)\n",
      "Requirement already satisfied: pygments>=2.4.1 in /opt/conda/envs/fastai/lib/python3.8/site-packages (from nbconvert<7,>=6.0.0->voila) (2.7.2)\n",
      "Requirement already satisfied: jinja2>=2.4 in /opt/conda/envs/fastai/lib/python3.8/site-packages (from nbconvert<7,>=6.0.0->voila) (2.11.2)\n",
      "Requirement already satisfied: nbformat>=4.4 in /opt/conda/envs/fastai/lib/python3.8/site-packages (from nbconvert<7,>=6.0.0->voila) (5.0.8)\n",
      "Requirement already satisfied: terminado>=0.8.3 in /opt/conda/envs/fastai/lib/python3.8/site-packages (from jupyter-server<2.0.0,>=0.3.0->voila) (0.9.1)\n"
     ]
    },
    {
     "name": "stdout",
     "output_type": "stream",
     "text": [
      "Requirement already satisfied: ipython-genutils in /opt/conda/envs/fastai/lib/python3.8/site-packages (from jupyter-server<2.0.0,>=0.3.0->voila) (0.2.0)\n",
      "Requirement already satisfied: prometheus-client in /opt/conda/envs/fastai/lib/python3.8/site-packages (from jupyter-server<2.0.0,>=0.3.0->voila) (0.9.0)\n",
      "Requirement already satisfied: Send2Trash in /opt/conda/envs/fastai/lib/python3.8/site-packages (from jupyter-server<2.0.0,>=0.3.0->voila) (1.5.0)\n",
      "Collecting anyio>=2.0.2\n",
      "  Downloading anyio-2.0.2-py3-none-any.whl (62 kB)\n",
      "\u001b[K     |████████████████████████████████| 62 kB 3.8 MB/s  eta 0:00:01\n",
      "\u001b[?25hRequirement already satisfied: nest-asyncio in /opt/conda/envs/fastai/lib/python3.8/site-packages (from nbclient<0.6,>=0.4.0->voila) (1.4.3)\n",
      "Requirement already satisfied: async-generator in /opt/conda/envs/fastai/lib/python3.8/site-packages (from nbclient<0.6,>=0.4.0->voila) (1.10)\n",
      "Requirement already satisfied: six>=1.5 in /opt/conda/envs/fastai/lib/python3.8/site-packages (from python-dateutil>=2.1->jupyter-client<7,>=6.1.3->voila) (1.15.0)\n",
      "Requirement already satisfied: webencodings in /opt/conda/envs/fastai/lib/python3.8/site-packages (from bleach->nbconvert<7,>=6.0.0->voila) (0.5.1)\n",
      "Requirement already satisfied: packaging in /opt/conda/envs/fastai/lib/python3.8/site-packages (from bleach->nbconvert<7,>=6.0.0->voila) (20.4)\n",
      "Requirement already satisfied: MarkupSafe>=0.23 in /opt/conda/envs/fastai/lib/python3.8/site-packages (from jinja2>=2.4->nbconvert<7,>=6.0.0->voila) (1.1.1)\n",
      "Requirement already satisfied: jsonschema!=2.5.0,>=2.4 in /opt/conda/envs/fastai/lib/python3.8/site-packages (from nbformat>=4.4->nbconvert<7,>=6.0.0->voila) (3.2.0)\n",
      "Requirement already satisfied: ptyprocess; os_name != \"nt\" in /opt/conda/envs/fastai/lib/python3.8/site-packages (from terminado>=0.8.3->jupyter-server<2.0.0,>=0.3.0->voila) (0.6.0)\n",
      "Collecting sniffio>=1.1\n",
      "  Downloading sniffio-1.2.0-py3-none-any.whl (10 kB)\n",
      "Requirement already satisfied: idna>=2.8 in /opt/conda/envs/fastai/lib/python3.8/site-packages (from anyio>=2.0.2->jupyter-server<2.0.0,>=0.3.0->voila) (2.10)\n",
      "Requirement already satisfied: pyparsing>=2.0.2 in /opt/conda/envs/fastai/lib/python3.8/site-packages (from packaging->bleach->nbconvert<7,>=6.0.0->voila) (2.4.7)\n",
      "Requirement already satisfied: setuptools in /opt/conda/envs/fastai/lib/python3.8/site-packages (from jsonschema!=2.5.0,>=2.4->nbformat>=4.4->nbconvert<7,>=6.0.0->voila) (49.6.0.post20201009)\n",
      "Requirement already satisfied: attrs>=17.4.0 in /opt/conda/envs/fastai/lib/python3.8/site-packages (from jsonschema!=2.5.0,>=2.4->nbformat>=4.4->nbconvert<7,>=6.0.0->voila) (20.3.0)\n",
      "Requirement already satisfied: pyrsistent>=0.14.0 in /opt/conda/envs/fastai/lib/python3.8/site-packages (from jsonschema!=2.5.0,>=2.4->nbformat>=4.4->nbconvert<7,>=6.0.0->voila) (0.17.3)\n",
      "Installing collected packages: nbconvert, sniffio, anyio, jupyter-server, voila\n",
      "  Attempting uninstall: nbconvert\n",
      "    Found existing installation: nbconvert 5.6.1\n",
      "    Uninstalling nbconvert-5.6.1:\n",
      "      Successfully uninstalled nbconvert-5.6.1\n",
      "\u001b[31mERROR: After October 2020 you may experience errors when installing or updating packages. This is because pip will change the way that it resolves dependency conflicts.\n",
      "\n",
      "We recommend you use --use-feature=2020-resolver to test your packages with the new resolver before it becomes the default.\n",
      "\n",
      "nbdev 1.1.5 requires nbconvert<6, but you'll have nbconvert 6.0.7 which is incompatible.\u001b[0m\n",
      "Successfully installed anyio-2.0.2 jupyter-server-1.1.2 nbconvert-6.0.7 sniffio-1.2.0 voila-0.2.4\n",
      "Enabling: voila\n",
      "- Writing config: /opt/conda/envs/fastai/etc/jupyter\n",
      "    - Validating...\n",
      "      voila 0.2.4 \u001b[32mOK\u001b[0m\n"
     ]
    }
   ],
   "source": [
    "!pip install fastai --upgrade\n",
    "!pip install voila\n",
    "!jupyter serverextension enable --sys-prefix voila\n",
    "import fastbook\n",
    "fastbook.setup_book()"
   ]
  },
  {
   "cell_type": "code",
   "execution_count": 2,
   "metadata": {
    "id": "Zk9oZBqnvI0U"
   },
   "outputs": [],
   "source": [
    "from fastbook import *\n",
    "from fastai.vision.widgets import *"
   ]
  },
  {
   "cell_type": "markdown",
   "metadata": {
    "id": "d5npvcjuuwSF"
   },
   "source": [
    "### Import the model"
   ]
  },
  {
   "cell_type": "code",
   "execution_count": 3,
   "metadata": {
    "colab": {
     "base_uri": "https://localhost:8080/"
    },
    "id": "s57kMeyXuV5x",
    "outputId": "4321b0cc-a354-47d2-f7cc-e122d051b395"
   },
   "outputs": [
    {
     "data": {
      "text/plain": [
       "(#1) [Path('export.pkl')]"
      ]
     },
     "execution_count": 3,
     "metadata": {},
     "output_type": "execute_result"
    }
   ],
   "source": [
    "#We check if the file exists\n",
    "path = Path()\n",
    "path.ls(file_exts=\".pkl\")"
   ]
  },
  {
   "cell_type": "code",
   "execution_count": 4,
   "metadata": {
    "id": "CFeep7W7u5gW"
   },
   "outputs": [],
   "source": [
    "learn_inf = load_learner(path/'export.pkl')"
   ]
  },
  {
   "cell_type": "code",
   "execution_count": 5,
   "metadata": {
    "id": "mL2XISIUyvS-"
   },
   "outputs": [],
   "source": [
    "out_pl = widgets.Output()"
   ]
  },
  {
   "cell_type": "code",
   "execution_count": 6,
   "metadata": {
    "id": "0IUTGQswzAHu"
   },
   "outputs": [],
   "source": [
    "lbl_pred = widgets.Label()"
   ]
  },
  {
   "cell_type": "code",
   "execution_count": 7,
   "metadata": {
    "id": "QPkNVxMIzTpB"
   },
   "outputs": [],
   "source": [
    "btn_run = widgets.Button(description='Classify')"
   ]
  },
  {
   "cell_type": "code",
   "execution_count": 8,
   "metadata": {
    "id": "ccw1F8Czzirk"
   },
   "outputs": [],
   "source": [
    "btn_upload = widgets.FileUpload()"
   ]
  },
  {
   "cell_type": "code",
   "execution_count": 9,
   "metadata": {
    "id": "TVUXmYgEzX37"
   },
   "outputs": [],
   "source": [
    "def on_click_classify(change):\n",
    "    img = PILImage.create(btn_upload.data[-1])\n",
    "    out_pl.clear_output()\n",
    "    with out_pl: display(img.to_thumb(128,128))\n",
    "    pred,pred_idx,probs = learn_inf.predict(img)\n",
    "    lbl_pred.value = f'Prediction: {pred}; Probability: {probs[pred_idx]:.04f}'\n",
    "\n",
    "btn_run.on_click(on_click_classify)"
   ]
  },
  {
   "cell_type": "code",
   "execution_count": 10,
   "metadata": {
    "colab": {
     "base_uri": "https://localhost:8080/",
     "height": 273,
     "referenced_widgets": [
      "1c9ec31b87864401b2812e98f9d4c13a",
      "02d2bd7734a6418dac7b22aae29b62f3",
      "666e9481f3634811b2117febda68c2f4",
      "89f94bfb75fc42f092e23d249acb7344",
      "332cca28f30d45e2b55e3ccb03b8f779",
      "15607a5ff6ac487c87de53d45e32c274",
      "efb2630536504c8dbb738d199fd80121",
      "244bd47ef844470b99f4fa4e8ed3d9c7",
      "b84e9b53afdf4ff9b5b7200df06b9942",
      "c3ec9638eeb349819dbd5a0582dea8ed",
      "0ac4a18275d2468a856c8a8f3edd0e0d",
      "dc10727acb7c4106a8e85030ff858e3a",
      "243b3cb06b9244329f5f769863fc1b5e",
      "1c0f9420b9184fc4b51e96b40fa075c2",
      "c6afd1a0af7b4f7fa07922a15b73ab79",
      "ac21e288fb8b49aa9d953f26f6346ac9"
     ]
    },
    "id": "CERWsV7wzc9X",
    "outputId": "0cbb6ebf-f5e6-485f-e989-115842a49af9"
   },
   "outputs": [
    {
     "data": {
      "application/vnd.jupyter.widget-view+json": {
       "model_id": "05d8dd3df8644a088da642905cc10618",
       "version_major": 2,
       "version_minor": 0
      },
      "text/plain": [
       "VBox(children=(Label(value='Upload Bear for Prediction'), FileUpload(value={}, description='Upload'), Button(d…"
      ]
     },
     "metadata": {},
     "output_type": "display_data"
    },
    {
     "data": {
      "text/html": [],
      "text/plain": [
       "<IPython.core.display.HTML object>"
      ]
     },
     "metadata": {},
     "output_type": "display_data"
    }
   ],
   "source": [
    "VBox([widgets.Label('Upload Bear for Prediction'), \n",
    "      btn_upload, btn_run, out_pl, lbl_pred])"
   ]
  },
  {
   "cell_type": "code",
   "execution_count": null,
   "metadata": {
    "id": "SJSqveMk2fNv"
   },
   "outputs": [],
   "source": []
  }
 ],
 "metadata": {
  "colab": {
   "name": "bear_classifier.ipynb",
   "provenance": []
  },
  "kernelspec": {
   "display_name": "Python 3",
   "language": "python",
   "name": "python3"
  },
  "language_info": {
   "codemirror_mode": {
    "name": "ipython",
    "version": 3
   },
   "file_extension": ".py",
   "mimetype": "text/x-python",
   "name": "python",
   "nbconvert_exporter": "python",
   "pygments_lexer": "ipython3",
   "version": "3.8.6"
  },
  "widgets": {
   "application/vnd.jupyter.widget-state+json": {
    "02d2bd7734a6418dac7b22aae29b62f3": {
     "model_module": "@jupyter-widgets/base",
     "model_name": "LayoutModel",
     "state": {
      "_model_module": "@jupyter-widgets/base",
      "_model_module_version": "1.2.0",
      "_model_name": "LayoutModel",
      "_view_count": null,
      "_view_module": "@jupyter-widgets/base",
      "_view_module_version": "1.2.0",
      "_view_name": "LayoutView",
      "align_content": null,
      "align_items": null,
      "align_self": null,
      "border": null,
      "bottom": null,
      "display": null,
      "flex": null,
      "flex_flow": null,
      "grid_area": null,
      "grid_auto_columns": null,
      "grid_auto_flow": null,
      "grid_auto_rows": null,
      "grid_column": null,
      "grid_gap": null,
      "grid_row": null,
      "grid_template_areas": null,
      "grid_template_columns": null,
      "grid_template_rows": null,
      "height": null,
      "justify_content": null,
      "justify_items": null,
      "left": null,
      "margin": null,
      "max_height": null,
      "max_width": null,
      "min_height": null,
      "min_width": null,
      "object_fit": null,
      "object_position": null,
      "order": null,
      "overflow": null,
      "overflow_x": null,
      "overflow_y": null,
      "padding": null,
      "right": null,
      "top": null,
      "visibility": null,
      "width": null
     }
    },
    "0ac4a18275d2468a856c8a8f3edd0e0d": {
     "model_module": "@jupyter-widgets/base",
     "model_name": "LayoutModel",
     "state": {
      "_model_module": "@jupyter-widgets/base",
      "_model_module_version": "1.2.0",
      "_model_name": "LayoutModel",
      "_view_count": null,
      "_view_module": "@jupyter-widgets/base",
      "_view_module_version": "1.2.0",
      "_view_name": "LayoutView",
      "align_content": null,
      "align_items": null,
      "align_self": null,
      "border": null,
      "bottom": null,
      "display": null,
      "flex": null,
      "flex_flow": null,
      "grid_area": null,
      "grid_auto_columns": null,
      "grid_auto_flow": null,
      "grid_auto_rows": null,
      "grid_column": null,
      "grid_gap": null,
      "grid_row": null,
      "grid_template_areas": null,
      "grid_template_columns": null,
      "grid_template_rows": null,
      "height": null,
      "justify_content": null,
      "justify_items": null,
      "left": null,
      "margin": null,
      "max_height": null,
      "max_width": null,
      "min_height": null,
      "min_width": null,
      "object_fit": null,
      "object_position": null,
      "order": null,
      "overflow": null,
      "overflow_x": null,
      "overflow_y": null,
      "padding": null,
      "right": null,
      "top": null,
      "visibility": null,
      "width": null
     }
    },
    "15607a5ff6ac487c87de53d45e32c274": {
     "model_module": "@jupyter-widgets/output",
     "model_name": "OutputModel",
     "state": {
      "_dom_classes": [],
      "_model_module": "@jupyter-widgets/output",
      "_model_module_version": "1.0.0",
      "_model_name": "OutputModel",
      "_view_count": null,
      "_view_module": "@jupyter-widgets/output",
      "_view_module_version": "1.0.0",
      "_view_name": "OutputView",
      "layout": "IPY_MODEL_ac21e288fb8b49aa9d953f26f6346ac9",
      "msg_id": "",
      "outputs": [
       {
        "image/png": "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\n",
        "metadata": {
         "tags": []
        },
        "output_type": "display_data",
        "text/plain": "<PIL.Image.Image image mode=RGB size=95x128 at 0x7FF049502F28>"
       }
      ]
     }
    },
    "1c0f9420b9184fc4b51e96b40fa075c2": {
     "model_module": "@jupyter-widgets/controls",
     "model_name": "DescriptionStyleModel",
     "state": {
      "_model_module": "@jupyter-widgets/controls",
      "_model_module_version": "1.5.0",
      "_model_name": "DescriptionStyleModel",
      "_view_count": null,
      "_view_module": "@jupyter-widgets/base",
      "_view_module_version": "1.2.0",
      "_view_name": "StyleView",
      "description_width": ""
     }
    },
    "1c9ec31b87864401b2812e98f9d4c13a": {
     "model_module": "@jupyter-widgets/controls",
     "model_name": "VBoxModel",
     "state": {
      "_dom_classes": [],
      "_model_module": "@jupyter-widgets/controls",
      "_model_module_version": "1.5.0",
      "_model_name": "VBoxModel",
      "_view_count": null,
      "_view_module": "@jupyter-widgets/controls",
      "_view_module_version": "1.5.0",
      "_view_name": "VBoxView",
      "box_style": "",
      "children": [
       "IPY_MODEL_666e9481f3634811b2117febda68c2f4",
       "IPY_MODEL_89f94bfb75fc42f092e23d249acb7344",
       "IPY_MODEL_332cca28f30d45e2b55e3ccb03b8f779",
       "IPY_MODEL_15607a5ff6ac487c87de53d45e32c274",
       "IPY_MODEL_efb2630536504c8dbb738d199fd80121"
      ],
      "layout": "IPY_MODEL_02d2bd7734a6418dac7b22aae29b62f3"
     }
    },
    "243b3cb06b9244329f5f769863fc1b5e": {
     "model_module": "@jupyter-widgets/base",
     "model_name": "LayoutModel",
     "state": {
      "_model_module": "@jupyter-widgets/base",
      "_model_module_version": "1.2.0",
      "_model_name": "LayoutModel",
      "_view_count": null,
      "_view_module": "@jupyter-widgets/base",
      "_view_module_version": "1.2.0",
      "_view_name": "LayoutView",
      "align_content": null,
      "align_items": null,
      "align_self": null,
      "border": null,
      "bottom": null,
      "display": null,
      "flex": null,
      "flex_flow": null,
      "grid_area": null,
      "grid_auto_columns": null,
      "grid_auto_flow": null,
      "grid_auto_rows": null,
      "grid_column": null,
      "grid_gap": null,
      "grid_row": null,
      "grid_template_areas": null,
      "grid_template_columns": null,
      "grid_template_rows": null,
      "height": null,
      "justify_content": null,
      "justify_items": null,
      "left": null,
      "margin": null,
      "max_height": null,
      "max_width": null,
      "min_height": null,
      "min_width": null,
      "object_fit": null,
      "object_position": null,
      "order": null,
      "overflow": null,
      "overflow_x": null,
      "overflow_y": null,
      "padding": null,
      "right": null,
      "top": null,
      "visibility": null,
      "width": null
     }
    },
    "244bd47ef844470b99f4fa4e8ed3d9c7": {
     "model_module": "@jupyter-widgets/controls",
     "model_name": "DescriptionStyleModel",
     "state": {
      "_model_module": "@jupyter-widgets/controls",
      "_model_module_version": "1.5.0",
      "_model_name": "DescriptionStyleModel",
      "_view_count": null,
      "_view_module": "@jupyter-widgets/base",
      "_view_module_version": "1.2.0",
      "_view_name": "StyleView",
      "description_width": ""
     }
    },
    "332cca28f30d45e2b55e3ccb03b8f779": {
     "model_module": "@jupyter-widgets/controls",
     "model_name": "ButtonModel",
     "state": {
      "_dom_classes": [],
      "_model_module": "@jupyter-widgets/controls",
      "_model_module_version": "1.5.0",
      "_model_name": "ButtonModel",
      "_view_count": null,
      "_view_module": "@jupyter-widgets/controls",
      "_view_module_version": "1.5.0",
      "_view_name": "ButtonView",
      "button_style": "",
      "description": "Classify",
      "disabled": false,
      "icon": "",
      "layout": "IPY_MODEL_243b3cb06b9244329f5f769863fc1b5e",
      "style": "IPY_MODEL_dc10727acb7c4106a8e85030ff858e3a",
      "tooltip": ""
     }
    },
    "666e9481f3634811b2117febda68c2f4": {
     "model_module": "@jupyter-widgets/controls",
     "model_name": "LabelModel",
     "state": {
      "_dom_classes": [],
      "_model_module": "@jupyter-widgets/controls",
      "_model_module_version": "1.5.0",
      "_model_name": "LabelModel",
      "_view_count": null,
      "_view_module": "@jupyter-widgets/controls",
      "_view_module_version": "1.5.0",
      "_view_name": "LabelView",
      "description": "",
      "description_tooltip": null,
      "layout": "IPY_MODEL_b84e9b53afdf4ff9b5b7200df06b9942",
      "placeholder": "​",
      "style": "IPY_MODEL_244bd47ef844470b99f4fa4e8ed3d9c7",
      "value": "Upload Bear for Prediction"
     }
    },
    "89f94bfb75fc42f092e23d249acb7344": {
     "model_module": "@jupyter-widgets/controls",
     "model_name": "FileUploadModel",
     "state": {
      "_counter": 1,
      "_dom_classes": [],
      "_model_module": "@jupyter-widgets/controls",
      "_model_module_version": "1.5.0",
      "_model_name": "FileUploadModel",
      "_view_count": null,
      "_view_module": "@jupyter-widgets/controls",
      "_view_module_version": "1.5.0",
      "_view_name": "FileUploadView",
      "accept": "",
      "button_style": "",
      "data": [
       null
      ],
      "description": "Upload",
      "description_tooltip": null,
      "disabled": false,
      "error": "",
      "icon": "upload",
      "layout": "IPY_MODEL_0ac4a18275d2468a856c8a8f3edd0e0d",
      "metadata": [
       {
        "lastModified": 1607820131123,
        "name": "downloadbear.jpeg",
        "size": 11466,
        "type": "image/jpeg"
       }
      ],
      "multiple": false,
      "style": "IPY_MODEL_c3ec9638eeb349819dbd5a0582dea8ed"
     }
    },
    "ac21e288fb8b49aa9d953f26f6346ac9": {
     "model_module": "@jupyter-widgets/base",
     "model_name": "LayoutModel",
     "state": {
      "_model_module": "@jupyter-widgets/base",
      "_model_module_version": "1.2.0",
      "_model_name": "LayoutModel",
      "_view_count": null,
      "_view_module": "@jupyter-widgets/base",
      "_view_module_version": "1.2.0",
      "_view_name": "LayoutView",
      "align_content": null,
      "align_items": null,
      "align_self": null,
      "border": null,
      "bottom": null,
      "display": null,
      "flex": null,
      "flex_flow": null,
      "grid_area": null,
      "grid_auto_columns": null,
      "grid_auto_flow": null,
      "grid_auto_rows": null,
      "grid_column": null,
      "grid_gap": null,
      "grid_row": null,
      "grid_template_areas": null,
      "grid_template_columns": null,
      "grid_template_rows": null,
      "height": null,
      "justify_content": null,
      "justify_items": null,
      "left": null,
      "margin": null,
      "max_height": null,
      "max_width": null,
      "min_height": null,
      "min_width": null,
      "object_fit": null,
      "object_position": null,
      "order": null,
      "overflow": null,
      "overflow_x": null,
      "overflow_y": null,
      "padding": null,
      "right": null,
      "top": null,
      "visibility": null,
      "width": null
     }
    },
    "b84e9b53afdf4ff9b5b7200df06b9942": {
     "model_module": "@jupyter-widgets/base",
     "model_name": "LayoutModel",
     "state": {
      "_model_module": "@jupyter-widgets/base",
      "_model_module_version": "1.2.0",
      "_model_name": "LayoutModel",
      "_view_count": null,
      "_view_module": "@jupyter-widgets/base",
      "_view_module_version": "1.2.0",
      "_view_name": "LayoutView",
      "align_content": null,
      "align_items": null,
      "align_self": null,
      "border": null,
      "bottom": null,
      "display": null,
      "flex": null,
      "flex_flow": null,
      "grid_area": null,
      "grid_auto_columns": null,
      "grid_auto_flow": null,
      "grid_auto_rows": null,
      "grid_column": null,
      "grid_gap": null,
      "grid_row": null,
      "grid_template_areas": null,
      "grid_template_columns": null,
      "grid_template_rows": null,
      "height": null,
      "justify_content": null,
      "justify_items": null,
      "left": null,
      "margin": null,
      "max_height": null,
      "max_width": null,
      "min_height": null,
      "min_width": null,
      "object_fit": null,
      "object_position": null,
      "order": null,
      "overflow": null,
      "overflow_x": null,
      "overflow_y": null,
      "padding": null,
      "right": null,
      "top": null,
      "visibility": null,
      "width": null
     }
    },
    "c3ec9638eeb349819dbd5a0582dea8ed": {
     "model_module": "@jupyter-widgets/controls",
     "model_name": "ButtonStyleModel",
     "state": {
      "_model_module": "@jupyter-widgets/controls",
      "_model_module_version": "1.5.0",
      "_model_name": "ButtonStyleModel",
      "_view_count": null,
      "_view_module": "@jupyter-widgets/base",
      "_view_module_version": "1.2.0",
      "_view_name": "StyleView",
      "button_color": null,
      "font_weight": ""
     }
    },
    "c6afd1a0af7b4f7fa07922a15b73ab79": {
     "model_module": "@jupyter-widgets/base",
     "model_name": "LayoutModel",
     "state": {
      "_model_module": "@jupyter-widgets/base",
      "_model_module_version": "1.2.0",
      "_model_name": "LayoutModel",
      "_view_count": null,
      "_view_module": "@jupyter-widgets/base",
      "_view_module_version": "1.2.0",
      "_view_name": "LayoutView",
      "align_content": null,
      "align_items": null,
      "align_self": null,
      "border": null,
      "bottom": null,
      "display": null,
      "flex": null,
      "flex_flow": null,
      "grid_area": null,
      "grid_auto_columns": null,
      "grid_auto_flow": null,
      "grid_auto_rows": null,
      "grid_column": null,
      "grid_gap": null,
      "grid_row": null,
      "grid_template_areas": null,
      "grid_template_columns": null,
      "grid_template_rows": null,
      "height": null,
      "justify_content": null,
      "justify_items": null,
      "left": null,
      "margin": null,
      "max_height": null,
      "max_width": null,
      "min_height": null,
      "min_width": null,
      "object_fit": null,
      "object_position": null,
      "order": null,
      "overflow": null,
      "overflow_x": null,
      "overflow_y": null,
      "padding": null,
      "right": null,
      "top": null,
      "visibility": null,
      "width": null
     }
    },
    "dc10727acb7c4106a8e85030ff858e3a": {
     "model_module": "@jupyter-widgets/controls",
     "model_name": "ButtonStyleModel",
     "state": {
      "_model_module": "@jupyter-widgets/controls",
      "_model_module_version": "1.5.0",
      "_model_name": "ButtonStyleModel",
      "_view_count": null,
      "_view_module": "@jupyter-widgets/base",
      "_view_module_version": "1.2.0",
      "_view_name": "StyleView",
      "button_color": null,
      "font_weight": ""
     }
    },
    "efb2630536504c8dbb738d199fd80121": {
     "model_module": "@jupyter-widgets/controls",
     "model_name": "LabelModel",
     "state": {
      "_dom_classes": [],
      "_model_module": "@jupyter-widgets/controls",
      "_model_module_version": "1.5.0",
      "_model_name": "LabelModel",
      "_view_count": null,
      "_view_module": "@jupyter-widgets/controls",
      "_view_module_version": "1.5.0",
      "_view_name": "LabelView",
      "description": "",
      "description_tooltip": null,
      "layout": "IPY_MODEL_c6afd1a0af7b4f7fa07922a15b73ab79",
      "placeholder": "​",
      "style": "IPY_MODEL_1c0f9420b9184fc4b51e96b40fa075c2",
      "value": "Prediction: black; Probability: 0.9994"
     }
    }
   }
  }
 },
 "nbformat": 4,
 "nbformat_minor": 1
}
